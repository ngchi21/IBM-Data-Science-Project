{
  "metadata": {
    "language_info": {
      "codemirror_mode": {
        "name": "python",
        "version": 3
      },
      "file_extension": ".py",
      "mimetype": "text/x-python",
      "name": "python",
      "nbconvert_exporter": "python",
      "pygments_lexer": "ipython3",
      "version": "3.8"
    },
    "kernelspec": {
      "name": "python",
      "display_name": "Python (Pyodide)",
      "language": "python"
    }
  },
  "nbformat_minor": 4,
  "nbformat": 4,
  "cells": [
    {
      "cell_type": "markdown",
      "source": "# My Jupyter Notebook on IBM Watson Studio",
      "metadata": {}
    },
    {
      "cell_type": "markdown",
      "source": "<b>Edwin Ng<b>\n\nDesired Occupation: Data Scientist - preferrably at a research lab",
      "metadata": {}
    },
    {
      "cell_type": "markdown",
      "source": "<i>I want to become a data scientist because I love creating tools for others to use. On top of this, I like uncovering the reasoning behind things and the mechanisms by which they work. By becoming a data scientist I will be able to combine both of these interests to both further my career and the efforts I support.<i>",
      "metadata": {}
    },
    {
      "cell_type": "markdown",
      "source": "### The code below is used to demonstrate my understanding of the difference between code cells and markdown cells in a Jupyter Notebook. The code is purposefully kept simple for this usage. ###",
      "metadata": {}
    },
    {
      "cell_type": "code",
      "source": "a = list(range(1,12))\nb = []\nfor i in a:\n    b.append(i - 1)\nprint(b)",
      "metadata": {
        "trusted": true
      },
      "execution_count": 8,
      "outputs": [
        {
          "name": "stdout",
          "text": "[0, 1, 2, 3, 4, 5, 6, 7, 8, 9, 10]\n",
          "output_type": "stream"
        }
      ]
    },
    {
      "cell_type": "markdown",
      "source": "<b>Explanation of the code above<b>\n***\n1. Define the variable a as a list ranging from 1 to 11\n2. Define the variable b as an empty list\n3. Create a for loop that loops through the integers in the variable a\n4. For each integer in the variable a, append the value of the integer minus 1 to the empty list, b\n5. Print the final list, b\n    \n<b>For more information on basic Python commands please visit:<b>\n[W3 School's Python Tutorial](https://www.w3schools.com/python/default.asp)",
      "metadata": {}
    },
    {
      "cell_type": "code",
      "source": "",
      "metadata": {},
      "execution_count": null,
      "outputs": []
    }
  ]
}